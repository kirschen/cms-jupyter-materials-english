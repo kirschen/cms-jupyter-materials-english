{
 "cells": [
  {
   "cell_type": "markdown",
   "metadata": {},
   "source": [
    "# Higgs hunting - an example of scientific research"
   ]
  },
  {
   "cell_type": "markdown",
   "metadata": {},
   "source": [
    "The data we use here are actual, meaningful data from the CMS experiment that confirmed the existence of this elusive particle, which then resulted in a Nobel prize. Instead of hiding somewhere under ready made graphs, it is now yours to explore. The example is based on the original code in [http://opendata.cern.ch/record/5500] on the CERN Open Data portal (Jomhari, Nur Zulaiha; Geiser, Achim; Bin Anuar, Afiq Aizuddin; (2017). Higgs-to-four-lepton analysis example using 2011-2012 data. CERN Open Data Portal. DOI:10.7483/OPENDATA.CMS.JKB8.RR42) and the initial \"notebook version\" by Tom McCauley (University of Notre Dame) and Peitsa Veteli (Helsinki Institute of Physics).\n",
    "\n",
    "We consider the fairly background-free final state in which the Higgs boson decay is by first creating two Z bosons that then decay further into four leptons (electrons, muons...). For the Higgs boson signal we look at the invariant mass distribution of the four leptons and expect a peak over the background at around the mass of the Higgs boson.\n"
   ]
  },
  {
   "cell_type": "code",
   "execution_count": null,
   "metadata": {},
   "outputs": [],
   "source": [
    "import numpy as np\n",
    "import pandas as pd\n",
    "import matplotlib.pyplot as plt\n",
    "\n",
    "%matplotlib inline"
   ]
  },
  {
   "cell_type": "code",
   "execution_count": null,
   "metadata": {},
   "outputs": [],
   "source": [
    "# Data for later use.\n",
    "\n",
    "csvs = [pd.read_csv('../../Data/4mu_2011.csv'), pd.read_csv('../../Data/4e_2011.csv'), pd.read_csv('../../Data/2e2mu_2011.csv')]\n",
    "csvs += [pd.read_csv('../../Data/4mu_2012.csv'), pd.read_csv('../../Data/4e_2012.csv'), pd.read_csv('../../Data/2e2mu_2012.csv')]\n",
    "\n",
    "fourlep = pd.concat(csvs)"
   ]
  },
  {
   "cell_type": "code",
   "execution_count": null,
   "metadata": {},
   "outputs": [],
   "source": [
    "# Choose a mass region to analyse the experimental data and create a histogram of the invariant mass distribution from the input\n",
    "\n",
    "rmin = 70\n",
    "rmax = 181\n",
    "nbins = 37\n",
    "\n",
    "M_hist = np.histogram(fourlep['M'], bins = nbins, range = (rmin,rmax))\n",
    "\n",
    "hist, bins = M_hist\n",
    "width = 1.0*(bins[1] - bins[0])\n",
    "center = (bins[:-1] + bins[1:]) / 2"
   ]
  },
  {
   "cell_type": "markdown",
   "metadata": {},
   "source": [
    "For simplicity, we take pre-simulated values for background (and Higgs signal) events that have already been weighted by luminosity, cross-section and number of events. Basically we create a set of values that have some randomness in them, just like a real measurement would have, but which follows the distribution that has been observed in those processes."
   ]
  },
  {
   "cell_type": "code",
   "execution_count": null,
   "metadata": {},
   "outputs": [],
   "source": [
    "# DY, some irreducible background from singular Z bosons.\n",
    "dy = np.array([0,0,0,0,0,0.354797,0.177398,2.60481,0,0,0,0,0,0,0,0,0,0.177398,0.177398,0,0.177398,0,0,0,0,0,0,0,0,0,0,0,0.177398,0,0,0,0])\n",
    "# ttbar, a pair of top and anti-top quarks.\n",
    "ttbar = np.array([0.00465086,0,0.00465086,0,0,0,0,0,0,0,0.00465086,0,0,0,0,0,0.00465086,0,0,0,0,0.00465086,0.00465086,0,0,0.0139526,0,0,0.00465086,0,0,0,0.00465086,0.00465086,0.0139526,0,0])\n",
    "# ZZ, a pair of \"real\" Z bosons.\n",
    "zz = np.array([0.181215,0.257161,0.44846,0.830071,1.80272,4.57354,13.9677,14.0178,4.10974,1.58934,0.989974,0.839775,0.887188,0.967021,1.07882,1.27942,1.36681,1.4333,1.45141,1.41572,1.51464,1.45026,1.47328,1.42899,1.38757,1.33561,1.3075,1.29831,1.31402,1.30672,1.36442,1.39256,1.43472,1.58321,1.85313,2.19304,2.95083])\n",
    "#our Higgs signal for a specific mass of the Higgs boson\n",
    "hzz = np.array([0.00340992,0.00450225,0.00808944,0.0080008,0.00801578,0.0108945,0.00794274,0.00950757,0.0130648,0.0163568,0.0233832,0.0334813,0.0427229,0.0738129,0.13282,0.256384,0.648352,2.38742,4.87193,0.944299,0.155005,0.0374193,0.0138906,0.00630364,0.00419265,0.00358719,0.00122527,0.000885718,0.000590479,0.000885718,0.000797085,8.86337e-05,0.000501845,8.86337e-05,0.000546162,4.43168e-05,8.86337e-05])\n"
   ]
  },
  {
   "cell_type": "markdown",
   "metadata": {},
   "source": [
    "Here, most of the work is already done for you:\n",
    "Run the cell to look at the invariant mass distribution of the background processes considered here. Why do we see a peak around 90 GeV?\n",
    "\n",
    "In a second step: Please complete the entry for \"Measured data\" using what we prepared earlier in the notebook (and/or calculate in the beginning of the following cell). How well does the data match the expectation?"
   ]
  },
  {
   "cell_type": "code",
   "execution_count": null,
   "metadata": {},
   "outputs": [],
   "source": [
    "plt.figure(figsize = (15,5))\n",
    "\n",
    "xerrs = [width*0.5 for i in range(0, nbins)]\n",
    "yerrs = np.sqrt(hist)\n",
    "\n",
    "# ttbar \n",
    "ttbar_bar = plt.bar(center, ttbar, align = 'center', width = width, color = 'gray', linewidth = 0, edgecolor = 'b',\n",
    "                    alpha = 0.5, label = r'$t\\bar{t}$')\n",
    "\n",
    "# DY\n",
    "dy_bar = plt.bar(center, dy, align = 'center', width = width, color = 'g', linewidth = 0, edgecolor = 'black',\n",
    "                 alpha = 0.5, bottom = ttbar, label = 'Z/$\\gamma^{*}$ + X')\n",
    "\n",
    "# ZZ\n",
    "zz_bar = plt.bar(center, zz, align = 'center', width = width, color = 'b', linewidth = 0, edgecolor = 'black',\n",
    "                 alpha = 0.5, bottom = ttbar+dy, label = r'ZZ $\\rightarrow$ 4l')\n",
    "\n",
    "# Measured data\n",
    "#data_bar = plt.errorbar(center, CHANGEMETOTHEHISTOGRAMFROMDATA, xerr = CHANGEME, yerr = CHANGEME, linestyle = 'None', color = 'black',\n",
    "#                        marker = 'o', label = 'Data')\n",
    "\n",
    "plt.title('$ \\sqrt{s} = 7$ TeV, L = 2.3 $fb^{-1}$; $\\sqrt{s} = 8$ TeV, L = 11.6 $fb^{-1}$ \\n', fontsize = 12)\n",
    "plt.xlabel('$m_{4l}$ (GeV)', fontsize = 15)\n",
    "plt.ylabel('Events / 3 GeV\\n', fontsize = 15)\n",
    "plt.ylim(0,25)\n",
    "plt.xlim(rmin,rmax)\n",
    "plt.legend(fontsize = 15)\n",
    "\n",
    "plt.show()"
   ]
  },
  {
   "cell_type": "markdown",
   "metadata": {},
   "source": [
    "Before continuing, please fill out the Presemo that you can arrive to [here](https://presemo.helsinki.fi/bsph2006).\n",
    "A screenshot of the question is shown below\n",
    "\n",
    "[![Presemo2](https://cern.ch/kirschen/Presemo2.png)](https://presemo.helsinki.fi/bsph2006)\n",
    "\n",
    "\n",
    "\n",
    "\n",
    "\n",
    "\n",
    "\n",
    "\n",
    "\n",
    "\n",
    "\n",
    "\n",
    "\n",
    "\n",
    "\n"
   ]
  },
  {
   "cell_type": "markdown",
   "metadata": {},
   "source": [
    "There are clearly some points in there that don't seem to arise from our simulated processes, with one in particular sticking out. We have left out one item of precomputed data that we can add to the plot. Copy the cell above with the comparison plot and add the `hzz` data defined together with the backgrounds.\n",
    "Add the Higgs signal to the plot above similarly to the previous ones. If you need help with the options you can untoggle the box below:\n",
    "\n",
    "<details>\n",
    "<summary>Click here for help (untoggles hint)</summary>\n",
    "<code style=\"white-space:nowrap;\">color = 'w', linewidth = 1, edgecolor = 'r', bottom = ttbar+dy+zz, label = '$m_{H}$ = 125 GeV'</code>\n",
    "</details>"
   ]
  },
  {
   "cell_type": "markdown",
   "metadata": {},
   "source": [
    "# Bonus (closer look at the data in the .csv and beyond)\n",
    " There aren't very many processes that produce four leptons at the end, so getting even this many comprises about half the data that is publicly available from the 2011-2012 run. More precise information about the data can be found from [here](http://opendata.cern.ch/record/5500).\n",
    " \n",
    " This is already heavily processed data to fit into the short teaching session and we didn't exactly look at all the content of the .csv-file, yet. However, also in \"real data analysis\", the data formats have become more accessible, cf. [NanoAOD](https://twiki.cern.ch/twiki/bin/view/CMSPublic/WorkBookNanoAOD). This format gives essentially a large table of all the high-level objects in the event, e.g. there is a table for electrons, for muons, etc. We could fairly quickly redo a full analysis using uproot to read in the root files. These NanoAOD-files will be available in an upcoming CMS OpenData release as well.\n",
    " \n",
    " For now, we will stick to the .csv file we have and explore the full content provided (info on leptons and invariant masses of the Z-candidatates and the H-candidate)"
   ]
  },
  {
   "cell_type": "code",
   "execution_count": null,
   "metadata": {},
   "outputs": [],
   "source": [
    "# If we take a look at the data, we can see the properties of all four leptons involved.\n",
    "\n",
    "pd.options.display.max_columns = 50\n",
    "fourlep.head()"
   ]
  },
  {
   "cell_type": "markdown",
   "metadata": {},
   "source": [
    "This data set is too small to say anything for certain, but it isn't too far off from actual analysis results. Cf. the official result in this channel used for the Higgs discovery below and an animation of the full data back in the contact session.\n",
    "<img src = 'http://cds.cern.ch/record/1471016/files/H4l_mass_v3.png' align = 'right'>\n"
   ]
  },
  {
   "cell_type": "code",
   "execution_count": null,
   "metadata": {},
   "outputs": [],
   "source": []
  }
 ],
 "metadata": {
  "kernelspec": {
   "display_name": "Python 3 (ipykernel)",
   "language": "python",
   "name": "python3"
  },
  "language_info": {
   "codemirror_mode": {
    "name": "ipython",
    "version": 3
   },
   "file_extension": ".py",
   "mimetype": "text/x-python",
   "name": "python",
   "nbconvert_exporter": "python",
   "pygments_lexer": "ipython3",
   "version": "3.7.10"
  }
 },
 "nbformat": 4,
 "nbformat_minor": 2
}
